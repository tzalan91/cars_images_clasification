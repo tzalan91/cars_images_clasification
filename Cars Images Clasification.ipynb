{
 "cells": [
  {
   "cell_type": "markdown",
   "metadata": {
    "colab_type": "text",
    "id": "U1vaCziyb61J"
   },
   "source": [
    "# Introduction to Transfer Learning\n",
    "\n",
    "This notebook include a fast pass through the bases of **transfer learning** and his application on a real life use of case where we want to train a model which could clasiffy an image in a list of possible categories."
   ]
  },
  {
   "cell_type": "markdown",
   "metadata": {
    "colab_type": "text",
    "id": "xIKsSGLacp-2"
   },
   "source": [
    "## 1) Libraries and configurations"
   ]
  },
  {
   "cell_type": "code",
   "execution_count": null,
   "metadata": {
    "colab": {},
    "colab_type": "code",
    "executionInfo": {
     "elapsed": 2622,
     "status": "ok",
     "timestamp": 1595981590988,
     "user": {
      "displayName": "Alan Panuccio",
      "photoUrl": "https://lh3.googleusercontent.com/a-/AOh14Gj5pUhc1iteLa1G3O6sr29Dwvqsv3WedQgaEkdi7A=s64",
      "userId": "12064921321119825687"
     },
     "user_tz": 180
    },
    "id": "4KNwntqob61L"
   },
   "outputs": [],
   "source": [
    "from urllib.request import urlopen\n",
    "from urllib.error import HTTPError\n",
    "from urllib.error import URLError\n",
    "from bs4 import BeautifulSoup\n",
    "import urllib.parse\n",
    "import time\n",
    "import pandas as pd\n",
    "import sys\n",
    "import os\n",
    "import requests\n",
    "import urllib.request, urllib.error, urllib.parse\n",
    "from urllib.request import Request, urlopen \n",
    "import json\n",
    "import requests\n",
    "import pickle\n",
    "\n",
    "from IPython.display import Image, display\n",
    "import numpy as np\n",
    "from PIL import Image, ImageDraw, ImageFont\n",
    "from IPython.display import display\n",
    "import cv2\n",
    "\n",
    "from tensorflow.keras.applications.resnet50 import preprocess_input\n",
    "from tensorflow.keras.applications import ResNet50\n",
    "\n",
    "#from tensorflow.keras.applications.vgg16 import preprocess_input\n",
    "#from tensorflow.keras.applications import VGG16\n",
    "\n",
    "#from tensorflow.keras.applications.xception import preprocess_input\n",
    "#from tensorflow.keras.applications import Xception\n",
    "\n",
    "from tensorflow.keras.preprocessing.image import load_img, img_to_array\n",
    "from tensorflow.keras.models import Sequential\n",
    "from tensorflow.keras.layers import Dense, Flatten, GlobalAveragePooling2D\n",
    "from tensorflow.keras.applications.resnet50 import preprocess_input\n",
    "from tensorflow.keras.preprocessing.image import ImageDataGenerator"
   ]
  },
  {
   "cell_type": "code",
   "execution_count": null,
   "metadata": {
    "colab": {
     "base_uri": "https://localhost:8080/",
     "height": 34
    },
    "colab_type": "code",
    "executionInfo": {
     "elapsed": 2595,
     "status": "ok",
     "timestamp": 1595981590991,
     "user": {
      "displayName": "Alan Panuccio",
      "photoUrl": "https://lh3.googleusercontent.com/a-/AOh14Gj5pUhc1iteLa1G3O6sr29Dwvqsv3WedQgaEkdi7A=s64",
      "userId": "12064921321119825687"
     },
     "user_tz": 180
    },
    "id": "3RDkQrMn7gwk",
    "outputId": "44946b90-b0ed-416e-ca2b-d071faa223c6"
   },
   "outputs": [],
   "source": [
    "#from google.colab import drive\n",
    "#drive.mount('/content/gdrive/')\n",
    "BASE_PATH=\"./\"\n",
    "\n",
    "# Bing searching base url\n",
    "BING_BASE_URL=\"https://www.bing.com/images/search?q=\"\n",
    "\n",
    "# Type of cars which the model will clasify\n",
    "l_models = [\"SEDAN CAR\", \"SPORT CAR\", \"VAN CAR\", \"TRUCK\", \"4X4 CAR\", \"CONVERTIBLE CAR\"]\n",
    "\n",
    "# Posible categories identified by resnet to know the image is a valid image to train\n",
    "# in this case we will filter just car-images\n",
    "resnet_categories_to_filter = ['car_wheel','grille','minivan','sports_car','convertible','pickup','beach_wagon','racer','cab','minibus','limousine','tow_truck','jeep','ambulance','moving_van','passenger_car','recreational_vehicle','police_van','trailer_truck']"
   ]
  },
  {
   "cell_type": "markdown",
   "metadata": {
    "colab_type": "text",
    "id": "bXb4-pVQdLiu"
   },
   "source": [
    "## 2) Training Set\n",
    "To built a good training set for our use of case, we will get a couple of images for each car's type we want to clasify and train our model with this images."
   ]
  },
  {
   "cell_type": "markdown",
   "metadata": {
    "colab_type": "text",
    "id": "E_9e91w2lWYc"
   },
   "source": [
    "### 2.1) Scraping car images\n",
    "Now we have the types of cars we want to scrap, we will use the bing searching engine to find image for each car's type, and tagging those with the same model tag we used to search, it's a kind of automatic labeling."
   ]
  },
  {
   "cell_type": "code",
   "execution_count": null,
   "metadata": {
    "colab": {
     "base_uri": "https://localhost:8080/",
     "height": 392
    },
    "colab_type": "code",
    "executionInfo": {
     "elapsed": 376249,
     "status": "ok",
     "timestamp": 1595981964668,
     "user": {
      "displayName": "Alan Panuccio",
      "photoUrl": "https://lh3.googleusercontent.com/a-/AOh14Gj5pUhc1iteLa1G3O6sr29Dwvqsv3WedQgaEkdi7A=s64",
      "userId": "12064921321119825687"
     },
     "user_tz": 180
    },
    "id": "hnUIFqUGtz3n",
    "outputId": "e5f8cf60-c996-4597-cec3-101bf64d724e"
   },
   "outputs": [],
   "source": [
    "REQUEST_HEADER = {\"Authority\": \"www.bing.com\",\n",
    "                  \"Scheme\": \"https\",\n",
    "                  \"Accept-language\": \"es-ES,es;q=0.9\",\n",
    "                  \"Cache-control\": \"max-age=0\",\n",
    "                  \"Cookie\": \"MMCA=ID=DCC7CC8B9502497A86C0922DDF83D9BD; ipv6=hit=1595545793502&t=4; MUID=376C4ADF29D061732142447D28C560D7; NAP=V=1.9&E=17ef&C=HFvUHZsAD6exu1opqUHpSWXC8-9gJd8UuxOY78749CJoSes3i9dTdg&W=1; SRCHD=AF=NOFORM; SRCHUID=V=2&GUID=4F349A10C1D94CE89B17A92C3F0845D1&dmnchg=1; _SS=SID=3CE95C45960869452981534A97D568C9; _EDGE_V=1; MUIDB=376C4ADF29D061732142447D28C560D7; imgv=lts=20200722; _EDGE_S=mkt=es-ar&F=1&SID=3CE95C45960869452981534A97D568C9; ABDEF=ABDV=11&MRNB=1595388784046&MRB=0; SRCHUSR=DOB=20200722&T=1595542194000; WLS=C=&N=; dsc=order=Images; SRCHHPGUSR=CW=1903&CH=517&DPR=1&HV=1595542520&UTC=-180&DM=0&WTS=63731139132&ADLT=OFF\",\n",
    "                  \"Sec-fetch-dest\": \"document\",\n",
    "                  \"Sec-fetch-mode\": \"navigate\",\n",
    "                  \"Sec-fetch-site\": \"none\",\n",
    "                  \"Sec-fetch-user\": \"?1\",\n",
    "                  \"Upgrade-insecure-requests\": \"1\",\n",
    "                  \"User-agent\": \"Mozilla/5.0 (Windows NT 6.1; Win64; x64) AppleWebKit/537.36 (KHTML, like Gecko) Chrome/81.0.4044.92 Safari/537.36\"\n",
    "                  }\n",
    "images_paths = dict()\n",
    "images_paths2 = []\n",
    "q_images = 0\n",
    "DIR=\"\"\n",
    "\n",
    "for model in l_models:\n",
    "  q_images_model = 0\n",
    "  try:\n",
    "    time.sleep(1)\n",
    "\n",
    "    # Build the url to query in bing\n",
    "    URL = BING_BASE_URL +model.replace(' ', '+')+\"&first=1&scenario=ImageHoverTitle\"\n",
    "    \n",
    "    # For each model, we make a new folder (if it doesn't exists)\n",
    "    DIR = BASE_PATH+\"/train/\"+model.replace(\" \", \"_\")+\"/\"\n",
    "    if not os.path.exists(DIR):\n",
    "        os.mkdir(DIR)\n",
    "\n",
    "    print(\"[INFO] - Dir created - {\"+str(DIR)+\"}\")\n",
    "    print(\"[INFO] - URL to query- {\"+str(URL)+\"}\")    \n",
    "\n",
    "    # We will do until 100 attepmts per category\n",
    "    for i in range(100):\n",
    "      # Build the url to query in bing\n",
    "      URL = BING_BASE_URL +model.replace(' ', '+')+\"&first=\"+str(i)+\"&scenario=ImageHoverTitle\"\n",
    "\n",
    "      # Doing the query to bing\n",
    "      try:\n",
    "        html = urlopen(Request(URL, headers=REQUEST_HEADER))\n",
    "      except HTTPError as e:\n",
    "        print(e)\n",
    "      except URLError:\n",
    "        print(\"Server down or incorrect domain\")\n",
    "      else:\n",
    "        res = BeautifulSoup(html.read(), 'html.parser')\n",
    "\n",
    "      # For each image found, we will write it in the folder of the model\n",
    "      images = res.findAll(\"a\",{\"class\":\"iusc\"})\n",
    "      for img in images:\n",
    "        try:\n",
    "          # Get the url from the hidden json\n",
    "          try:\n",
    "            mad = json.loads(img[\"m\"])\n",
    "            url_img = mad[\"turl\"]\n",
    "          except:\n",
    "            mad = json.loads(img[\"mad\"])\n",
    "            url_img = mad[\"turl\"]\n",
    "\n",
    "          # Just will download the new images\n",
    "          if url_img not in images_paths2:\n",
    "            # Detect the extension of the file PNG or JPG\n",
    "            extension = \".jpg\" if \".JPG\" in url_img.upper() else '.png' if \".PNG\" in url_img.upper() else '.jpg'\n",
    "\n",
    "            # Build the auto-incremental name of the image\n",
    "            image_name = model.replace(\" \", \"_\")+\"_\"+str(q_images_model)+extension\n",
    "\n",
    "            # Download the image\n",
    "            urllib.request.urlretrieve(url_img, os.path.join(DIR, image_name))\n",
    "\n",
    "            # Add it to the list of downloaded images\n",
    "            q_images_model += 1\n",
    "            images_paths[(os.path.join(DIR, image_name))] = url_img\n",
    "            images_paths2.append(url_img)\n",
    "\n",
    "        except Exception as e:\n",
    "          print(\"could not load : \" + image_name)\n",
    "          print(e)\n",
    "\n",
    "  except Exception as e2:\n",
    "          print(\"could not load model: \" + DIR)\n",
    "          print(e2)\n",
    "  \n",
    "  print(\"[INFO] - Car's Type images dowloaded: {}\".format(q_images_model))\n",
    "  q_images += q_images_model\n",
    "\n",
    "print(\"_\"*200)\n",
    "print(\"[INFO] - Car images dowloaded: {}\".format(q_images))\n"
   ]
  },
  {
   "cell_type": "markdown",
   "metadata": {
    "colab_type": "text",
    "id": "N70VeaBjsJck"
   },
   "source": [
    "### 2.2) Filtering non-car images\n",
    "Now we have all the car images for each model, we will filter any image in wich we can't recognize cars.\n",
    "\n",
    "For that we will use the resnet50 network to idetify the most probable categories, if none of them is a car so that is a non-car image."
   ]
  },
  {
   "cell_type": "code",
   "execution_count": null,
   "metadata": {
    "colab": {},
    "colab_type": "code",
    "executionInfo": {
     "elapsed": 379621,
     "status": "ok",
     "timestamp": 1595981968061,
     "user": {
      "displayName": "Alan Panuccio",
      "photoUrl": "https://lh3.googleusercontent.com/a-/AOh14Gj5pUhc1iteLa1G3O6sr29Dwvqsv3WedQgaEkdi7A=s64",
      "userId": "12064921321119825687"
     },
     "user_tz": 180
    },
    "id": "LhFxn7ZesYoE"
   },
   "outputs": [],
   "source": [
    "image_size = 224\n",
    "\n",
    "# Data preparation for each image in the path\n",
    "def read_and_prep_images(img_paths, img_height=image_size, img_width=image_size):\n",
    "    imgs = [load_img(img_path, target_size=(img_height, img_width)) for img_path in img_paths]\n",
    "    img_array = np.array([img_to_array(img) for img in imgs])\n",
    "    output = preprocess_input(img_array)\n",
    "    return(output)\n",
    "\n",
    "# Function to decode the results of the prediction made by the resnet50 pre-trained model\n",
    "def decode_predictions(preds, top=5, class_list_path='../input/resnet50/imagenet_class_index.json'):\n",
    "  if len(preds.shape) != 2 or preds.shape[1] != 1000:\n",
    "    raise ValueError('`decode_predictions` expects a batch of predictions (i.e. a 2D array of shape (samples, 1000)). Found array with shape: ' + str(preds.shape))\n",
    "  CLASS_INDEX = json.load(open(class_list_path))\n",
    "  results = []\n",
    "  for pred in preds:\n",
    "    top_indices = pred.argsort()[-top:][::-1]\n",
    "    result = [tuple(CLASS_INDEX[str(i)]) + (pred[i],) for i in top_indices]\n",
    "    result.sort(key=lambda x: x[2], reverse=True)\n",
    "    results.append(result)\n",
    "    \n",
    "  return results\n",
    "\n",
    "my_model = ResNet50(weights='imagenet')"
   ]
  },
  {
   "cell_type": "markdown",
   "metadata": {
    "colab_type": "text",
    "id": "QBQ2F0NMyrGN"
   },
   "source": [
    "Once we have the model load we will walk through the train directory analizyng each image and deleting those which aren't car-images."
   ]
  },
  {
   "cell_type": "code",
   "execution_count": null,
   "metadata": {
    "colab": {
     "base_uri": "https://localhost:8080/",
     "height": 141
    },
    "colab_type": "code",
    "executionInfo": {
     "elapsed": 491671,
     "status": "ok",
     "timestamp": 1595982080133,
     "user": {
      "displayName": "Alan Panuccio",
      "photoUrl": "https://lh3.googleusercontent.com/a-/AOh14Gj5pUhc1iteLa1G3O6sr29Dwvqsv3WedQgaEkdi7A=s64",
      "userId": "12064921321119825687"
     },
     "user_tz": 180
    },
    "id": "8ithjoGQstd8",
    "outputId": "f44a506d-0103-43e3-bcd3-8e0d67944fb4"
   },
   "outputs": [],
   "source": [
    "directory = BASE_PATH+'/train/'\n",
    "q_images_deleted = 0\n",
    "images_deleted = []\n",
    "resnet_categories_to_filter = ['car_wheel','grille','minivan','sports_car','convertible','pickup','beach_wagon','racer','cab','minibus','limousine','tow_truck','jeep','ambulance','moving_van','passenger_car','recreational_vehicle','police_van','trailer_truck']\n",
    "img_paths = []\n",
    "\n",
    "# For each directory in the train dir, search for images\n",
    "print(\"[INFO] - Starting searching images\")\n",
    "for root, dirs, files in os.walk(directory):\n",
    "  for d in dirs:\n",
    "    # We will analize each image just for jpg & png images\n",
    "    for root2, dirs2, files2 in os.walk(os.path.join(root, d)):\n",
    "      for file in files2:\n",
    "        if file.endswith(\".jpg\") or file.endswith(\".png\"):\n",
    "          img_path = os.path.join(root2, file)\n",
    "          img_paths.append(img_path)\n",
    "print(\"[INFO] - Images detected: {}\".format(len(img_paths)))\n",
    "\n",
    "# Do the prediction getting the most probable categories\n",
    "print(\"[INFO] - Starting prediction\")\n",
    "most_likely_labels = decode_predictions(my_model.predict(read_and_prep_images(img_paths)), top=5, class_list_path=BASE_PATH+\"/imagenet_class_index.json\")\n",
    "print(\"[INFO] - Prediction ended\")\n",
    "\n",
    "print(\"[INFO] - Starting removing images\")\n",
    "for img in range(len(img_paths)):\n",
    "\n",
    "  # Test if it's a car\n",
    "  is_car = max([ True if x[1] in car_categories else False for x in most_likely_labels[img] ])\n",
    "\n",
    "  # If it isn't a car, so we will remove the image\n",
    "  if not(is_car):\n",
    "    #print(\"[INFO] - Deleting non-car image: \"+str(img_path))\n",
    "    os.remove(img_paths[img])\n",
    "    images_deleted.append(img_paths[img])\n",
    "    q_images_deleted += 1\n",
    "\n",
    "q_images -= q_images_deleted\n",
    "print(\"[INFO] - Non-car images removed: {}\".format(q_images_deleted))\n",
    "print(\"[INFO] - Car images remained: {}\".format(q_images))\n"
   ]
  },
  {
   "cell_type": "markdown",
   "metadata": {
    "colab_type": "text",
    "id": "41TzmtZt1X-T"
   },
   "source": [
    "### 2.3) Training & Testing\n",
    "Now we'll divide train and test images, as an example: \"all the images between 5 and 35 will be for test, the others for train\"."
   ]
  },
  {
   "cell_type": "code",
   "execution_count": null,
   "metadata": {
    "colab": {
     "base_uri": "https://localhost:8080/",
     "height": 176
    },
    "colab_type": "code",
    "executionInfo": {
     "elapsed": 492252,
     "status": "ok",
     "timestamp": 1595982080736,
     "user": {
      "displayName": "Alan Panuccio",
      "photoUrl": "https://lh3.googleusercontent.com/a-/AOh14Gj5pUhc1iteLa1G3O6sr29Dwvqsv3WedQgaEkdi7A=s64",
      "userId": "12064921321119825687"
     },
     "user_tz": 180
    },
    "id": "gE7FhN6cFF5d",
    "outputId": "2213fa54-f9e1-46ff-f36d-fb0021093ef2"
   },
   "outputs": [],
   "source": [
    "q_images_moved = 0 \n",
    "q_dirs=0\n",
    "\n",
    "# For each directory in the train dir, search for images\n",
    "print(\"[INFO] - Starting moving images to testing\")\n",
    "for root, dirs, files in os.walk(BASE_PATH+'/train/'):\n",
    "  for d in dirs:\n",
    "    # If the directory doesn't exists in test folder, we will create it\n",
    "    DIR = os.path.join(root, d).replace(\"/train/\", \"/test/\")\n",
    "    q_dirs += 1\n",
    "    if not os.path.exists(DIR):\n",
    "        os.mkdir(DIR)\n",
    "    print(\"[INFO] - Dir created - {\"+str(DIR)+\"}\")\n",
    "\n",
    "    # We will analize each image just for jpg & png images\n",
    "    for root2, dirs2, files2 in os.walk(os.path.join(root, d)):\n",
    "      for file in files2:\n",
    "\n",
    "        # The images between 5 & 35 will be used for testing, so those will be moved to /test/ folder\n",
    "        sufixes = tuple( [ '_'+str(x)+y for x in range(5,35,1) for y in ['.png','.jpg'] ] )\n",
    "        if file.lower().endswith(sufixes):\n",
    "          img_path = os.path.join(root2, file)\n",
    "          os.rename(img_path, img_path.replace(\"/train/\",\"/test/\"))\n",
    "          q_images_moved += 1\n",
    "\n",
    "q_images -= q_images_moved\n",
    "print(\"[INFO] - Testing images: {}\".format(q_images_moved))\n",
    "print(\"[INFO] - Training images: {}\".format(q_images))"
   ]
  },
  {
   "cell_type": "markdown",
   "metadata": {
    "colab_type": "text",
    "id": "-dB_slkvb61U"
   },
   "source": [
    "## 3) Model Building\n",
    "To built our classifier we will use the pre-trained model ResNet50 trained on the imagenet public dataset.\n",
    "We will do a fine tunning to improve the clasification based on our target categories using the images downloaded to train/test the model."
   ]
  },
  {
   "cell_type": "markdown",
   "metadata": {
    "colab_type": "text",
    "id": "KEF4WvLXOXdn"
   },
   "source": [
    "### 3.1) Initial configuration\n",
    "To start, we will download the pre-trained model and built a new `Sequential Neural Network` adding a last layer to train the target categories."
   ]
  },
  {
   "cell_type": "code",
   "execution_count": null,
   "metadata": {
    "colab": {},
    "colab_type": "code",
    "executionInfo": {
     "elapsed": 492234,
     "status": "ok",
     "timestamp": 1595982080737,
     "user": {
      "displayName": "Alan Panuccio",
      "photoUrl": "https://lh3.googleusercontent.com/a-/AOh14Gj5pUhc1iteLa1G3O6sr29Dwvqsv3WedQgaEkdi7A=s64",
      "userId": "12064921321119825687"
     },
     "user_tz": 180
    },
    "id": "WYgnSfjvpTkE"
   },
   "outputs": [],
   "source": [
    "# If you have already downloaded the images and just want to train, uncommennt this:\n",
    "#q_dirs = 7\n",
    "#q_images = 661"
   ]
  },
  {
   "cell_type": "code",
   "execution_count": null,
   "metadata": {
    "colab": {},
    "colab_type": "code",
    "executionInfo": {
     "elapsed": 497917,
     "status": "ok",
     "timestamp": 1595982086439,
     "user": {
      "displayName": "Alan Panuccio",
      "photoUrl": "https://lh3.googleusercontent.com/a-/AOh14Gj5pUhc1iteLa1G3O6sr29Dwvqsv3WedQgaEkdi7A=s64",
      "userId": "12064921321119825687"
     },
     "user_tz": 180
    },
    "id": "4j9Hg2yTb61V",
    "tags": [
     "raises-exception"
    ]
   },
   "outputs": [],
   "source": [
    "# Quantity of target labels\n",
    "num_classes = q_dirs\n",
    "\n",
    "# Built the new Sequential Network\n",
    "my_new_model = Sequential()\n",
    "my_new_model.add(ResNet50(include_top=False, pooling='avg', weights='imagenet'))\n",
    "\n",
    "# We could use another pre-trained model: VGG16, VGG19, Xception, etc.\n",
    "#my_new_model.add(VGG16(include_top=False, pooling='avg', weights='imagenet'))\n",
    "#my_new_model.add(Xception(include_top=False, pooling='avg', weights='imagenet'))\n",
    "\n",
    "# Add the last layer with num_classes outputs\n",
    "my_new_model.add(Dense(num_classes, activation='softmax'))\n",
    "\n",
    "# Freeze the pre-trained model's layer\n",
    "my_new_model.layers[0].trainable = False\n",
    "\n",
    "my_new_model.compile(optimizer='sgd', loss='categorical_crossentropy', metrics=['accuracy'])"
   ]
  },
  {
   "cell_type": "markdown",
   "metadata": {
    "colab_type": "text",
    "id": "9JUhA7rlb61z"
   },
   "source": [
    "### 3.2) Fitting\n",
    "Once we have configured the network to train, we will define the training & testing data.\n",
    "\n",
    "With that purpose, we will use the keras Class `ImageDataGenerator` which let us building the datasets based on a folders structure and assigning the label to each image based on the folder's name. What's more, this library let us to do `Data Augmentation` fliping each image horizontally and shifting it +-10% on the windows.\n",
    "\n",
    "- The **train directory** is `BASE_PATH + /train/`\n",
    "\n",
    "- The **test directory** is  `BASE_PATH + /test/`"
   ]
  },
  {
   "cell_type": "code",
   "execution_count": null,
   "metadata": {
    "colab": {
     "base_uri": "https://localhost:8080/",
     "height": 356
    },
    "colab_type": "code",
    "executionInfo": {
     "elapsed": 941533,
     "status": "ok",
     "timestamp": 1595982530078,
     "user": {
      "displayName": "Alan Panuccio",
      "photoUrl": "https://lh3.googleusercontent.com/a-/AOh14Gj5pUhc1iteLa1G3O6sr29Dwvqsv3WedQgaEkdi7A=s64",
      "userId": "12064921321119825687"
     },
     "user_tz": 180
    },
    "id": "TDIeeuj8b610",
    "outputId": "84b44948-176e-4381-fca5-eba822d2395a",
    "tags": [
     "raises-exception"
    ]
   },
   "outputs": [],
   "source": [
    "image_size = 224\n",
    "q_steps_p_epoch=20\n",
    "q_epochs=5\n",
    "\n",
    "# ImageDataGenerator, applying Data Augmentation with horizontal flip and width/hight shift\n",
    "data_generator = ImageDataGenerator(preprocess_input,\n",
    "                                    horizontal_flip = True,\n",
    "                                    width_shift_range = 0.1,\n",
    "                                    height_shift_range = 0.1)\n",
    "# ImageDataGenerator without Data Augmentation for the test images\n",
    "data_generato_test = ImageDataGenerator(preprocess_input)\n",
    "\n",
    "# Training generator, in each step we will use 1/q_steps_p_epoch% of train images.\n",
    "train_generator = data_generator.flow_from_directory(directory=BASE_PATH+'/train/', \n",
    "                                                     target_size=(image_size, image_size), \n",
    "                                                     batch_size= int(round(q_images/q_steps_p_epoch)), \n",
    "                                                     class_mode='categorical')\n",
    "# Save the label assignations\n",
    "clases = { i[1]: i[0] for i in train_generator.class_indices.items() }\n",
    "\n",
    "# Testing generator, just one step.\n",
    "validation_generator = data_generato_test.flow_from_directory(directory=BASE_PATH+'/test/', \n",
    "                                                          target_size=(image_size, image_size), \n",
    "                                                          class_mode='categorical')\n",
    "\n",
    "# Traing the model\n",
    "fit_stats = my_new_model.fit_generator(train_generator,\n",
    "                                       steps_per_epoch=q_steps_p_epoch,\n",
    "                                       epochs=q_epochs,\n",
    "                                       validation_data=validation_generator,\n",
    "                                       validation_steps=1)\n",
    "\n",
    "print(\"Validation Accuraccy: {}%\".format(round(100*((fit_stats.history['val_accuracy'])[-1]), 2)))"
   ]
  },
  {
   "cell_type": "markdown",
   "metadata": {
    "colab_type": "text",
    "id": "ifS8gbchV58_"
   },
   "source": [
    "### 3.3) Testing\n",
    "Now we have a fine tunned model, we will test it in the test images, reading one category at time, and labeling it with the predicted.\n"
   ]
  },
  {
   "cell_type": "code",
   "execution_count": null,
   "metadata": {
    "colab": {
     "base_uri": "https://localhost:8080/",
     "height": 1000,
     "output_embedded_package_id": "1MhNEl_6amXWe2LpzuCNihd7z85JSUlIc"
    },
    "colab_type": "code",
    "executionInfo": {
     "elapsed": 1011660,
     "status": "ok",
     "timestamp": 1595982600225,
     "user": {
      "displayName": "Alan Panuccio",
      "photoUrl": "https://lh3.googleusercontent.com/a-/AOh14Gj5pUhc1iteLa1G3O6sr29Dwvqsv3WedQgaEkdi7A=s64",
      "userId": "12064921321119825687"
     },
     "user_tz": 180
    },
    "id": "cyJk5w119JBc",
    "outputId": "4e15229d-611e-47ca-f93d-f6c89990761e"
   },
   "outputs": [],
   "source": [
    "category_predictions = []\n",
    "\n",
    "# For each directory in the train dir, search for images\n",
    "print(\"[INFO] - Starting testing the model\")\n",
    "for root, dirs, files in os.walk(BASE_PATH+'/test/'):\n",
    "  for d in dirs:\n",
    "    DIR = os.path.join(root, d)\n",
    "    print(\"[INFO] - Testing Category - {\"+str(DIR)+\"}\")\n",
    "\n",
    "    # We will analize each image just for jpg & png images\n",
    "    for root2, dirs2, files2 in os.walk(os.path.join(root, d)):\n",
    "      for file in files2:\n",
    "        \n",
    "        sufixes = tuple(['.png','.jpg'])\n",
    "        if file.lower().endswith(sufixes):\n",
    "\n",
    "          # Building the image path\n",
    "          img_path = os.path.join(root2, file)\n",
    "\n",
    "          # Predicting the category for the image, the default is UNKNOWN\n",
    "          name = \"UNKNOWN\"\n",
    "          predictions = fit_stats.model.predict(read_and_prep_images([img_path]))\n",
    "          df = pd.DataFrame(predictions)\n",
    "          df.columns= [ clases[k] for k in clases.keys() ]\n",
    "          df = df.T.reset_index()\n",
    "          df.columns= [\"MARCA\",\"PROB\"]\n",
    "\n",
    "          # Selecting the most probable category and his score\n",
    "          name =  df.sort_values(by=\"PROB\", ascending=False)[\"MARCA\"].iloc[0] + \" - \"\n",
    "          name += str(int(round((df.sort_values(by=\"PROB\", ascending=False)[\"PROB\"].iloc[0])*100, 0)))  + \"%\"\n",
    "\n",
    "          # Reading the img file to the needed format\n",
    "          im = cv2.imread(img_path)\n",
    "          pil_image = Image.open(img_path)\n",
    "          draw = ImageDraw.Draw(pil_image)\n",
    "\n",
    "          # Reading the img shape and borders for the rectangle with the category\n",
    "          h, w, c = im.shape\n",
    "          left, right, bottom, top = (0, w, h, 0)\n",
    "\n",
    "          # Drawing the rectangle and the category assigned\n",
    "          draw.rectangle(((left, top), (right, bottom)), outline=(0, 0, 255))\n",
    "          text_width, text_height = draw.textsize(name)\n",
    "          draw.rectangle(((left, bottom - text_height - 10), (right, bottom)), fill=(0, 0, 255), outline=(0, 0, 255))\n",
    "          font = ImageFont.truetype(BASE_PATH+\"/OpenSans-Regular.ttf\", 16)\n",
    "          draw.text((left + round(right/2)-(len(name)*4), bottom - text_height - 10), name, fill=(255, 255, 255, 255), font=font)\n",
    "          del draw\n",
    "\n",
    "          # Show the image\n",
    "          display(pil_image)\n",
    "\n",
    "          # Save each prediction to compare the accuracy by category\n",
    "          category_predictions.append({'category':d, 'prediction':df.sort_values(by=\"PROB\", ascending=False)[\"MARCA\"].iloc[0], 'id':img_path})\n",
    "\n",
    "print(\"[INFO] - Test ended\")"
   ]
  },
  {
   "cell_type": "markdown",
   "metadata": {
    "colab_type": "text",
    "id": "cpVod1Gmwtwn"
   },
   "source": [
    "See the results by real category and predicted category."
   ]
  },
  {
   "cell_type": "code",
   "execution_count": null,
   "metadata": {
    "colab": {
     "base_uri": "https://localhost:8080/",
     "height": 587
    },
    "colab_type": "code",
    "executionInfo": {
     "elapsed": 1011656,
     "status": "ok",
     "timestamp": 1595982600240,
     "user": {
      "displayName": "Alan Panuccio",
      "photoUrl": "https://lh3.googleusercontent.com/a-/AOh14Gj5pUhc1iteLa1G3O6sr29Dwvqsv3WedQgaEkdi7A=s64",
      "userId": "12064921321119825687"
     },
     "user_tz": 180
    },
    "id": "vaRhRRvDwtE4",
    "outputId": "6bdb8802-9a1e-4a77-d19c-73a28bda1c04"
   },
   "outputs": [],
   "source": [
    "df_accuracy = pd.DataFrame(category_predictions)\n",
    "df_agrup = df_accuracy.groupby([\"category\",\"prediction\"])[[\"id\"]].count().reset_index()\n",
    "df_agrup.sort_values(by=[\"category\",\"id\"], ascending=False)"
   ]
  },
  {
   "cell_type": "markdown",
   "metadata": {
    "colab_type": "text",
    "id": "IDB50c44sNIu"
   },
   "source": [
    "## END"
   ]
  }
 ],
 "metadata": {
  "accelerator": "TPU",
  "colab": {
   "collapsed_sections": [],
   "name": "Type of Car Recognition.ipynb",
   "provenance": [],
   "toc_visible": true
  },
  "kernelspec": {
   "display_name": "Python 3",
   "language": "python",
   "name": "python3"
  },
  "language_info": {
   "codemirror_mode": {
    "name": "ipython",
    "version": 3
   },
   "file_extension": ".py",
   "mimetype": "text/x-python",
   "name": "python",
   "nbconvert_exporter": "python",
   "pygments_lexer": "ipython3",
   "version": "3.7.3"
  }
 },
 "nbformat": 4,
 "nbformat_minor": 1
}
